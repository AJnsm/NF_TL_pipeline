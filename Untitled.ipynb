{
 "cells": [
  {
   "cell_type": "code",
   "execution_count": 1,
   "metadata": {},
   "outputs": [
    {
     "name": "stdout",
     "output_type": "stream",
     "text": [
      "libs loaded\n"
     ]
    }
   ],
   "source": [
    "import matplotlib\n",
    "import matplotlib.pyplot as plt\n",
    "%matplotlib inline\n",
    "import numpy as np\n",
    "import scrublet as scr\n",
    "import scanpy as sc\n",
    "import pandas as pd\n",
    "import scipy\n",
    "np.random.seed(0)\n",
    "print('libs loaded')\n",
    "# print('If figures come out blank, change the matplotlib backend. ')"
   ]
  },
  {
   "cell_type": "code",
   "execution_count": 3,
   "metadata": {
    "scrolled": true
   },
   "outputs": [
    {
     "name": "stdout",
     "output_type": "stream",
     "text": [
      "loading data\n"
     ]
    },
    {
     "name": "stderr",
     "output_type": "stream",
     "text": [
      "Variable names are not unique. To make them unique, call `.var_names_make_unique`.\n"
     ]
    },
    {
     "name": "stdout",
     "output_type": "stream",
     "text": [
      "data loaded!\n"
     ]
    }
   ],
   "source": [
    "print(\"loading data\")\n",
    "scObj = sc.read_10x_h5('cellData/1M_neurons.h5')\n",
    "scObj.var_names_make_unique()\n",
    "scObj.obs['index'] = np.arange(len(scObj))\n",
    "print(\"data loaded!\")"
   ]
  },
  {
   "cell_type": "code",
   "execution_count": 4,
   "metadata": {},
   "outputs": [
    {
     "name": "stdout",
     "output_type": "stream",
     "text": [
      "constructing count matrix\n"
     ]
    }
   ],
   "source": [
    "print('constructing count matrix')\n",
    "counts_matrix = scObj.X"
   ]
  },
  {
   "cell_type": "code",
   "execution_count": 5,
   "metadata": {},
   "outputs": [
    {
     "data": {
      "text/plain": [
       "<1306127x27998 sparse matrix of type '<class 'numpy.float32'>'\n",
       "\twith 2624828308 stored elements in Compressed Sparse Row format>"
      ]
     },
     "execution_count": 5,
     "metadata": {},
     "output_type": "execute_result"
    }
   ],
   "source": [
    "counts_matrix"
   ]
  },
  {
   "cell_type": "code",
   "execution_count": 7,
   "metadata": {},
   "outputs": [
    {
     "data": {
      "text/plain": [
       "<1306127x27998 sparse matrix of type '<class 'numpy.float32'>'\n",
       "\twith 2624828308 stored elements in Compressed Sparse Column format>"
      ]
     },
     "execution_count": 7,
     "metadata": {},
     "output_type": "execute_result"
    }
   ],
   "source": [
    "counts_matrix.tocsc()"
   ]
  },
  {
   "cell_type": "code",
   "execution_count": 8,
   "metadata": {},
   "outputs": [],
   "source": [
    "scipy.sparse.save_npz('counts_csc.npz', _)"
   ]
  },
  {
   "cell_type": "code",
   "execution_count": 2,
   "metadata": {},
   "outputs": [],
   "source": [
    "counts_matrix = scipy.sparse.load_npz('counts_csc.npz')"
   ]
  },
  {
   "cell_type": "code",
   "execution_count": 3,
   "metadata": {},
   "outputs": [
    {
     "data": {
      "text/plain": [
       "<1306127x27998 sparse matrix of type '<class 'numpy.float32'>'\n",
       "\twith 2624828308 stored elements in Compressed Sparse Column format>"
      ]
     },
     "execution_count": 3,
     "metadata": {},
     "output_type": "execute_result"
    }
   ],
   "source": [
    "counts_matrix"
   ]
  },
  {
   "cell_type": "code",
   "execution_count": null,
   "metadata": {},
   "outputs": [
    {
     "name": "stdout",
     "output_type": "stream",
     "text": [
      "constructing count matrix\n",
      "starting doublet detection\n",
      "calling doublets\n",
      "Preprocessing...\n"
     ]
    }
   ],
   "source": [
    "print('constructing count matrix')\n",
    "# counts_matrix = scObj.X\n",
    "# N=50000\n",
    "# counts_matrix = scObj.X[:N, :]\n",
    "print('starting doublet detection')\n",
    "scrub = scr.Scrublet(counts_matrix, expected_doublet_rate=0.076, sim_doublet_ratio=0.5)\n",
    "print('calling doublets')\n",
    "doublet_scores, predicted_doublets = scrub.scrub_doublets(min_counts=2,\n",
    "                                                          min_cells=3,\n",
    "                                                          min_gene_variability_pctl=85,\n",
    "                                                          n_prin_comps=40,\n",
    "                                                          mean_center=False)\n",
    "\n",
    "# NOTE: could choose to do in log-space by adding log_transform=True\n",
    "\n",
    "print('No. of doublets detected: ', sum(scrub.call_doublets()))\n",
    "scObj.obs['doublet'] = scrub.call_doublets()\n",
    "doubs = pd.DataFrame(scObj.obs[['doublet']])\n",
    "doubs.to_csv(\"bcDoublets.csv\", index=0)\n",
    "print('DONE') "
   ]
  },
  {
   "cell_type": "code",
   "execution_count": null,
   "metadata": {},
   "outputs": [],
   "source": []
  },
  {
   "cell_type": "code",
   "execution_count": null,
   "metadata": {},
   "outputs": [],
   "source": [
    "# ---------- Standard QC -----------\n",
    "\n",
    "# First: remove cells with high mito, low counts, and doublets.\n",
    "sc.pp.filter_cells(scObj, min_genes=400)\n",
    "sc.pp.filter_genes(scObj, min_cells=0.02*len(scObj))\n",
    "\n",
    "mito_genes = scObj.var_names.str.startswith('mt-')\n",
    "scObj.obs['percent_mito'] = np.sum(\n",
    "    scObj[:, mito_genes].X, axis=1).A1 / np.sum(scObj.X, axis=1).A1\n",
    "scObj.obs['n_counts'] = scObj.X.sum(axis=1).A1\n",
    "\n",
    "\n",
    "sc.pl.violin(scObj, ['n_genes'],\n",
    "             jitter=0.4, multi_panel=True, save='QC_n_genes.png')\n",
    "\n",
    "sc.pl.violin(scObj, ['n_counts'],\n",
    "             jitter=0.4, multi_panel=True, save='QC_n_counts.png')\n",
    "\n",
    "sc.pl.violin(scObj, ['percent_mito'],\n",
    "             jitter=0.4, multi_panel=True, save='QC_percent_mito.png')"
   ]
  }
 ],
 "metadata": {
  "kernelspec": {
   "display_name": "NF_TL_env",
   "language": "python",
   "name": "nf_tl_env"
  },
  "language_info": {
   "codemirror_mode": {
    "name": "ipython",
    "version": 3
   },
   "file_extension": ".py",
   "mimetype": "text/x-python",
   "name": "python",
   "nbconvert_exporter": "python",
   "pygments_lexer": "ipython3",
   "version": "3.6.12"
  }
 },
 "nbformat": 4,
 "nbformat_minor": 4
}
