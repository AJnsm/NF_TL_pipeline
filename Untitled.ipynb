{
 "cells": [
  {
   "cell_type": "code",
   "execution_count": 1,
   "metadata": {},
   "outputs": [
    {
     "name": "stdout",
     "output_type": "stream",
     "text": [
      "libs loaded\n"
     ]
    }
   ],
   "source": [
    "import matplotlib\n",
    "matplotlib.use(\"Agg\")\n",
    "import matplotlib.pyplot as plt\n",
    "import numpy as np\n",
    "import scrublet as scr\n",
    "import scanpy as sc\n",
    "sc.settings.figdir = ''\n",
    "import pandas as pd\n",
    "import scipy.io\n",
    "import sys\n",
    "import os\n",
    "import seaborn\n",
    "np.random.seed(0)\n",
    "print('libs loaded')\n",
    "# print('If figures come out blank, change the matplotlib backend. ')"
   ]
  },
  {
   "cell_type": "code",
   "execution_count": 5,
   "metadata": {},
   "outputs": [
    {
     "name": "stdout",
     "output_type": "stream",
     "text": [
      "loading data\n"
     ]
    },
    {
     "name": "stderr",
     "output_type": "stream",
     "text": [
      "Variable names are not unique. To make them unique, call `.var_names_make_unique`.\n"
     ]
    },
    {
     "name": "stdout",
     "output_type": "stream",
     "text": [
      "data loaded!\n"
     ]
    }
   ],
   "source": [
    "print(\"loading data\")\n",
    "scObj = sc.read_10x_h5('cellData/1M_neurons.h5')\n",
    "scObj.var_names_make_unique()\n",
    "scObj.obs['index'] = np.arange(len(scObj))\n",
    "print(\"data loaded!\")"
   ]
  },
  {
   "cell_type": "code",
   "execution_count": null,
   "metadata": {},
   "outputs": [
    {
     "name": "stdout",
     "output_type": "stream",
     "text": [
      "constructing count matrix\n",
      "starting doublet detection\n",
      "calling doublets\n",
      "Preprocessing...\n"
     ]
    }
   ],
   "source": [
    "# ---------- Calculate doublets -----------\n",
    "# if ((len(doubs)<len(scObj)) | (doubs is None)):\n",
    "print('constructing count matrix')\n",
    "counts_matrix = scObj.X\n",
    "print('starting doublet detection')\n",
    "scrub = scr.Scrublet(counts_matrix, expected_doublet_rate=0.076)\n",
    "print('calling doublets')\n",
    "doublet_scores, predicted_doublets = scrub.scrub_doublets(min_counts=2,\n",
    "                                                          min_cells=3,\n",
    "                                                          min_gene_variability_pctl=85,\n",
    "                                                          n_prin_comps=40)\n",
    "\n",
    "# NOTE: could choose to do in log-space by adding log_transform=True\n",
    "\n",
    "print('No. of doublets detected: ', sum(scrub.call_doublets()))\n",
    "scObj.obs['doublet'] = scrub.call_doublets()\n",
    "doubs = pd.DataFrame(scObj.obs[['doublet']])\n",
    "doubs.to_csv(\"bcDoublets.csv\", index=0)\n",
    "print('DONE') \n",
    "\n",
    "fig, ax = scrub.plot_histogram()\n",
    "fig.savefig('doubletScore_hist.png')\n",
    "\n",
    "print('Running UMAP...')\n",
    "scrub.set_embedding('UMAP', scr.get_umap(scrub.manifold_obs_, 10, min_dist=0.3))\n",
    "print('Done with UMAP.')\n",
    "\n",
    "\n",
    "x = scrub._embeddings['UMAP'][:,0]\n",
    "y = scrub._embeddings['UMAP'][:,1]\n",
    "\n",
    "fig = plt.figure(figsize = (5, 5))\n",
    "coldat = scrub.predicted_doublets_\n",
    "o = np.argsort(coldat)\n",
    "plt.scatter(x[o], y[o], c = coldat[o], cmap=scr.custom_cmap([[.7,.7,.7], [0,0,0]]), s = 2)\n",
    "plt.xticks([]), plt.yticks([])\n",
    "plt.title('Doublets: UMAP embedding')\n",
    "plt.xlabel('UMAP x')\n",
    "plt.ylabel('UMAP y')\n",
    "plt.tight_layout()\n",
    "fig.savefig('doublets.png', dpi=None)"
   ]
  },
  {
   "cell_type": "code",
   "execution_count": null,
   "metadata": {},
   "outputs": [],
   "source": [
    "# ---------- Standard QC -----------\n",
    "\n",
    "# First: remove cells with high mito, low counts, and doublets.\n",
    "sc.pp.filter_cells(scObj, min_genes=400)\n",
    "sc.pp.filter_genes(scObj, min_cells=0.02*len(scObj))\n",
    "\n",
    "mito_genes = scObj.var_names.str.startswith('mt-')\n",
    "scObj.obs['percent_mito'] = np.sum(\n",
    "    scObj[:, mito_genes].X, axis=1).A1 / np.sum(scObj.X, axis=1).A1\n",
    "scObj.obs['n_counts'] = scObj.X.sum(axis=1).A1\n",
    "\n",
    "\n",
    "sc.pl.violin(scObj, ['n_genes'],\n",
    "             jitter=0.4, multi_panel=True, save='QC_n_genes.png')\n",
    "\n",
    "sc.pl.violin(scObj, ['n_counts'],\n",
    "             jitter=0.4, multi_panel=True, save='QC_n_counts.png')\n",
    "\n",
    "sc.pl.violin(scObj, ['percent_mito'],\n",
    "             jitter=0.4, multi_panel=True, save='QC_percent_mito.png')"
   ]
  }
 ],
 "metadata": {
  "kernelspec": {
   "display_name": "NF_TL_env",
   "language": "python",
   "name": "nf_tl_env"
  },
  "language_info": {
   "codemirror_mode": {
    "name": "ipython",
    "version": 3
   },
   "file_extension": ".py",
   "mimetype": "text/x-python",
   "name": "python",
   "nbconvert_exporter": "python",
   "pygments_lexer": "ipython3",
   "version": "3.6.12"
  }
 },
 "nbformat": 4,
 "nbformat_minor": 4
}
